{
 "cells": [
  {
   "cell_type": "markdown",
   "id": "0cd34d82",
   "metadata": {},
   "source": [
    "## Link Extractor module"
   ]
  },
  {
   "cell_type": "markdown",
   "id": "9ec4a9eb",
   "metadata": {},
   "source": [
    "### Import required libraries/modules"
   ]
  },
  {
   "cell_type": "code",
   "execution_count": 1,
   "id": "0ca65803",
   "metadata": {
    "scrolled": true
   },
   "outputs": [],
   "source": [
    "from selenium import webdriver\n",
    "import time\n",
    "import furl"
   ]
  },
  {
   "cell_type": "markdown",
   "id": "74114bb7",
   "metadata": {},
   "source": [
    "### Load the driver"
   ]
  },
  {
   "cell_type": "code",
   "execution_count": 8,
   "id": "8b3fcb5b",
   "metadata": {},
   "outputs": [],
   "source": [
    "driver_path = \"/home/pybeast/chromedriver\"\n",
    "driver = webdriver.Chrome(executable_path=driver_path)"
   ]
  },
  {
   "cell_type": "markdown",
   "id": "9fea02a2",
   "metadata": {},
   "source": [
    "### Function that returns the list of product links when given category/search keyword as argument"
   ]
  },
  {
   "cell_type": "code",
   "execution_count": 9,
   "id": "21c3af0a",
   "metadata": {},
   "outputs": [],
   "source": [
    "def link_extractor(category):\n",
    "    \n",
    "    # URL of flipkart.com's website\n",
    "    url = \"https://www.flipkart.com\"\n",
    "    driver.get(url)\n",
    "    time.sleep(2)\n",
    "    \n",
    "    # If login box pops up, close it\n",
    "    try:\n",
    "        wrong_button = driver.find_element_by_class_name(\"_2doB4z\")\n",
    "        wrong_button.click()\n",
    "    except:\n",
    "        pass\n",
    "    \n",
    "    # Accessing search bar \n",
    "    search_bar = driver.find_element_by_class_name(\"_3704LK\")\n",
    "    \n",
    "    # Inputting category string into the search bar and clicking on search button\n",
    "    search_bar.send_keys(category)\n",
    "    search_button = driver.find_element_by_class_name(\"L0Z3Pu\")\n",
    "    search_button.click()\n",
    "    time.sleep(5)\n",
    "    \n",
    "    # limit variable specifies the maximum number of product links to be extracted\n",
    "    limit = 30\n",
    "    \n",
    "    # Creating empty links list\n",
    "    links_list = list()\n",
    "    \n",
    "    # cnt variable keeps track of number of product links appended to the links list\n",
    "    cnt = 0\n",
    "    \n",
    "    # Run loop until limit number of product links gets appended to the links list\n",
    "    while True:\n",
    "        links = driver.find_elements_by_class_name(\"_1fQZEK\")\n",
    "        for link in links:\n",
    "            complete_link = link.get_attribute(\"href\")\n",
    "            refined_link = furl.furl(complete_link).remove(args=True, fragment=True).url\n",
    "            links_list.append(refined_link)\n",
    "            cnt += 1\n",
    "            if cnt == limit:\n",
    "                return links_list\n",
    "                \n",
    "        # Check if there is next button present on the page. If yes, then click else return the available links list\n",
    "        try:\n",
    "            next_button = driver.find_element_by_xpath(\"//span[contains(text(), 'Next')]//parent::a[contains(@class, '_1LKTO3')]\")\n",
    "            next_button.click()\n",
    "            time.sleep(5)\n",
    "        except:\n",
    "            return links_list\n",
    "    return links_list"
   ]
  },
  {
   "cell_type": "code",
   "execution_count": 10,
   "id": "8b2a5d8f",
   "metadata": {},
   "outputs": [
    {
     "name": "stdout",
     "output_type": "stream",
     "text": [
      "['https://www.flipkart.com/samsung-6-5-kg-5-star-semi-automatic-top-load-white-grey/p/itm58f57989114d0', 'https://www.flipkart.com/samsung-8-5-kg-5-star-semi-automatic-top-load-white-grey/p/itm47ebcbfab82bf', 'https://www.flipkart.com/samsung-6-5-kg-monsoon-drying-feature-fully-automatic-top-load-silver/p/itme1ba4fde1563a', 'https://www.flipkart.com/samsung-6-kg-5-star-inverter-fully-automatic-front-load-in-built-heater-white/p/itm2ee8237807ed7', 'https://www.flipkart.com/whirlpool-6-kg-fully-automatic-top-load-grey/p/itmcb6f9bac28d1a', 'https://www.flipkart.com/samsung-6-5-kg-5-star-inverter-fully-automatic-top-load-grey/p/itm5814d96c6faa5', 'https://www.flipkart.com/whirlpool-7-kg-5-star-turbo-scrub-technology-semi-automatic-top-load-grey/p/itmc2358c606b038', 'https://www.flipkart.com/whirlpool-7-kg-fully-automatic-top-load-grey/p/itmda9428f9a44c8', 'https://www.flipkart.com/whirlpool-7-5-kg-5-star-hard-water-wash-fully-automatic-top-load-grey/p/itmb49b34c9eb10d', 'https://www.flipkart.com/samsung-7-kg-5-star-inverter-fully-automatic-top-load-silver/p/itm92797f5e0d965', 'https://www.flipkart.com/whirlpool-7-5-kg-5-star-ace-wash-station-semi-automatic-top-load-grey/p/itmb3935cfa82d51', 'https://www.flipkart.com/marq-flipkart-6-kg-5-star-rating-semi-automatic-top-load-white-maroon/p/itm125a12d8f3fef', 'https://www.flipkart.com/samsung-7-kg-monsoon-drying-feature-fully-automatic-top-load-silver/p/itm45d6cd26e5975', 'https://www.flipkart.com/samsung-7-kg-5-rating-fully-automatic-front-load-in-built-heater-black-grey/p/itm93f9061568c31', 'https://www.flipkart.com/samsung-7-2-kg-semi-automatic-top-load-white/p/itmfeed5dxkkzmf5', 'https://www.flipkart.com/sansui-6-5-kg-semi-automatic-top-load-white-maroon/p/itm20f2bf235e831', 'https://www.flipkart.com/lg-6-5-kg-5-star-inverter-fully-automatic-top-load-silver/p/itme4cacbedc1c8f', 'https://www.flipkart.com/whirlpool-7-5-kg-fully-automatic-top-load-in-built-heater-grey/p/itm547032bb3b1e6', 'https://www.flipkart.com/lg-7-kg-fully-automatic-front-load-in-built-heater-silver/p/itmc812ba3bd2e45', 'https://www.flipkart.com/samsung-8-kg-inverter-ecobubble-fully-automatic-front-load-in-built-heater-white/p/itmf6ty5bxjrtj8y', 'https://www.flipkart.com/ifb-6-5-kg-5-star-fully-automatic-top-load-white/p/itm013b0ee61f7a7', 'https://www.flipkart.com/sansui-8-5-kg-5-star-semi-automatic-top-load-red-white/p/itmf22e5717f1be4', 'https://www.flipkart.com/marq-flipkart-6-5-kg-5-star-rating-semi-automatic-top-load-white-blue/p/itmcbadc3896d644', 'https://www.flipkart.com/samsung-10-kg-wobble-technology-fully-automatic-top-load-grey/p/itmf7fhgnssze78c', 'https://www.flipkart.com/ifb-7-kg-fully-automatic-front-load-in-built-heater-black-white/p/itm83b58c71b74e2', 'https://www.flipkart.com/whirlpool-6-kg-5-star-turbo-scrub-technology-semi-automatic-top-load-grey/p/itmb6b736202c98b', 'https://www.flipkart.com/samsung-8-kg-fully-automatic-top-load-black-purple/p/itm33d9d95a9e47a', 'https://www.flipkart.com/lg-10-kg-5-star-rating-semi-automatic-top-load-grey-white/p/itm4d30a171f1b21', 'https://www.flipkart.com/lg-6-kg-5-star-fully-automatic-front-load-in-built-heater-white/p/itmd87275d014623', 'https://www.flipkart.com/samsung-6-2-kg-monsoon-feature-fully-automatic-top-load-grey/p/itmewa2xkfkeq9cz']\n"
     ]
    }
   ],
   "source": [
    "print(link_extractor('Washing Machines'))"
   ]
  }
 ],
 "metadata": {
  "kernelspec": {
   "display_name": "Python 3",
   "language": "python",
   "name": "python3"
  },
  "language_info": {
   "codemirror_mode": {
    "name": "ipython",
    "version": 3
   },
   "file_extension": ".py",
   "mimetype": "text/x-python",
   "name": "python",
   "nbconvert_exporter": "python",
   "pygments_lexer": "ipython3",
   "version": "3.8.5"
  }
 },
 "nbformat": 4,
 "nbformat_minor": 5
}
