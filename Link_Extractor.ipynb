{
 "cells": [
  {
   "cell_type": "markdown",
   "id": "0cd34d82",
   "metadata": {},
   "source": [
    "## Link Extractor module"
   ]
  },
  {
   "cell_type": "markdown",
   "id": "9ec4a9eb",
   "metadata": {},
   "source": [
    "### Import required libraries/modules"
   ]
  },
  {
   "cell_type": "code",
   "execution_count": 38,
   "id": "0ca65803",
   "metadata": {
    "scrolled": true
   },
   "outputs": [],
   "source": [
    "from selenium import webdriver\n",
    "import time\n",
    "import furl"
   ]
  },
  {
   "cell_type": "markdown",
   "id": "74114bb7",
   "metadata": {},
   "source": [
    "### Load the driver"
   ]
  },
  {
   "cell_type": "code",
   "execution_count": 39,
   "id": "8b3fcb5b",
   "metadata": {},
   "outputs": [],
   "source": [
    "driver_path = \"/home/pybeast/chromedriver\"\n",
    "driver = webdriver.Chrome(executable_path=driver_path)"
   ]
  },
  {
   "cell_type": "markdown",
   "id": "9fea02a2",
   "metadata": {},
   "source": [
    "### Function that returns the list of product links when given category/search keyword as argument"
   ]
  },
  {
   "cell_type": "code",
   "execution_count": 40,
   "id": "21c3af0a",
   "metadata": {},
   "outputs": [],
   "source": [
    "# Works for both vertical and horizontal display of products\n",
    "def link_extractor(category):\n",
    "    \n",
    "    # URL of flipkart.com's website\n",
    "    url = \"https://www.flipkart.com\"\n",
    "    driver.get(url)\n",
    "    time.sleep(2)\n",
    "    \n",
    "    # If login box pops up, close it\n",
    "    try:\n",
    "        wrong_button = driver.find_element_by_class_name(\"_2doB4z\")\n",
    "        wrong_button.click()\n",
    "    except:\n",
    "        pass\n",
    "    \n",
    "    # Accessing search bar \n",
    "    search_bar = driver.find_element_by_class_name(\"_3704LK\")\n",
    "    \n",
    "    # Inputting category string into the search bar and clicking on search button\n",
    "    search_bar.send_keys(category)\n",
    "    search_button = driver.find_element_by_class_name(\"L0Z3Pu\")\n",
    "    search_button.click()\n",
    "    time.sleep(5)\n",
    "    \n",
    "    # limit variable specifies the maximum number of product links to be extracted\n",
    "    limit = 30\n",
    "    \n",
    "    # Creating empty links list\n",
    "    links_list = list()\n",
    "    \n",
    "    # cnt variable keeps track of number of product links appended to the links list\n",
    "    cnt = 0\n",
    "    \n",
    "    # Run loop until limit number of product links gets appended to the links list\n",
    "    while True:\n",
    "        \n",
    "        try:\n",
    "            # Check if the products display style is of vertical style\n",
    "            # If the below line raises an exception 'NoSuchElementException', then the display style is of horizontal style\n",
    "            temp = driver.find_element_by_class_name(\"_1fQZEK\")\n",
    "            links = driver.find_elements_by_class_name(\"_1fQZEK\")\n",
    "        except:\n",
    "            # If it's here, then the products display style is of horizontal style\n",
    "            links = driver.find_elements_by_class_name(\"IRpwTa\")\n",
    "        \n",
    "        for link in links:\n",
    "            complete_link = link.get_attribute(\"href\")\n",
    "            refined_link = furl.furl(complete_link).remove(args=True, fragment=True).url\n",
    "            links_list.append(refined_link)\n",
    "            cnt += 1\n",
    "            if cnt == limit:\n",
    "                return links_list\n",
    "                \n",
    "        # Check if there is next button present on the page. If yes, then click else return the available links list\n",
    "        try:\n",
    "            next_button = driver.find_element_by_xpath(\"//span[contains(text(), 'Next')]//parent::a[contains(@class, '_1LKTO3')]\")\n",
    "            next_button.click()\n",
    "            time.sleep(5)\n",
    "        except:\n",
    "            return links_list\n",
    "    return links_list"
   ]
  },
  {
   "cell_type": "code",
   "execution_count": 41,
   "id": "8b2a5d8f",
   "metadata": {},
   "outputs": [
    {
     "name": "stdout",
     "output_type": "stream",
     "text": [
      "['https://www.flipkart.com/redmi-9i-midnight-black-64-gb/p/itm15c585b87d780', 'https://www.flipkart.com/infinix-hot-10-play-morandi-green-64-gb/p/itm1f660c8716944', 'https://www.flipkart.com/infinix-hot-10-play-aegean-blue-64-gb/p/itm1f660c8716944', 'https://www.flipkart.com/realme-c20-cool-blue-32-gb/p/itmea1903897436b', 'https://www.flipkart.com/realme-c20-cool-grey-32-gb/p/itmea1903897436b', 'https://www.flipkart.com/infinix-hot-10-play-7-purple-64-gb/p/itm1f660c8716944', 'https://www.flipkart.com/realme-narzo-30a-laser-blue-64-gb/p/itma78aeb1d764b5', 'https://www.flipkart.com/realme-narzo-30a-laser-black-64-gb/p/itma78aeb1d764b5', 'https://www.flipkart.com/realme-narzo-30a-laser-black-32-gb/p/itma78aeb1d764b5', 'https://www.flipkart.com/realme-narzo-20-glory-silver-64-gb/p/itm4ac58d879006d', 'https://www.flipkart.com/oppo-a53-mint-cream-128-gb/p/itm95cd35d571400', 'https://www.flipkart.com/poco-m3-power-black-128-gb/p/itm7396538c49897', 'https://www.flipkart.com/realme-narzo-30a-laser-blue-32-gb/p/itma78aeb1d764b5', 'https://www.flipkart.com/realme-c25-watery-blue-64-gb/p/itm62d25188ea98a', 'https://www.flipkart.com/redmi-9-power-electric-green-64-gb/p/itmca7d78e222ed7', 'https://www.flipkart.com/poco-m3-cool-blue-64-gb/p/itmc8ec867cb0472', 'https://www.flipkart.com/realme-c21-cross-black-32-gb/p/itmf4062d3f37c1a', 'https://www.flipkart.com/realme-c21-cross-blue-64-gb/p/itmf4062d3f37c1a', 'https://www.flipkart.com/realme-c21-cross-blue-32-gb/p/itmf4062d3f37c1a', 'https://www.flipkart.com/realme-c21-cross-black-64-gb/p/itmf4062d3f37c1a', 'https://www.flipkart.com/infinix-smart-4-plus-quetzal-cyan-32-gb/p/itmd387f45cb474a', 'https://www.flipkart.com/infinix-smart-4-plus-midnight-black-32-gb/p/itmd387f45cb474a', 'https://www.flipkart.com/oppo-a12-flowing-silver-64-gb/p/itmfc859cdf39e01', 'https://www.flipkart.com/oppo-a12-deep-blue-64-gb/p/itmfc859cdf39e01', 'https://www.flipkart.com/oppo-a12-blue-32-gb/p/itmfc859cdf39e01', 'https://www.flipkart.com/oppo-a12-deep-blue-32-gb/p/itmfc859cdf39e01', 'https://www.flipkart.com/realme-narzo-20-victory-blue-128-gb/p/itm4ac58d879006d', 'https://www.flipkart.com/redmi-note-9-pebble-grey-64-gb/p/itmdde47c8e717b3', 'https://www.flipkart.com/oppo-a53-moonlight-black-128-gb/p/itmf59942b768c29', 'https://www.flipkart.com/poco-m2-reloaded-mostly-blue-64-gb/p/itmc50149a5b8e51']\n"
     ]
    }
   ],
   "source": [
    "# Example of vertical display\n",
    "print(link_extractor(\"Mobiles\"))"
   ]
  },
  {
   "cell_type": "code",
   "execution_count": 42,
   "id": "97173934",
   "metadata": {},
   "outputs": [
    {
     "name": "stdout",
     "output_type": "stream",
     "text": [
      "['https://www.flipkart.com/gladiator-products-men-printed-checkered-casual-maroon-shirt/p/itmfe6dfb7333896', 'https://www.flipkart.com/finivo-fashion-men-solid-casual-maroon-shirt/p/itm30ac4cb2ff2e3', 'https://www.flipkart.com/gespo-men-solid-casual-black-shirt/p/itm7940ed870e59f', 'https://www.flipkart.com/x-men-men-solid-casual-blue-shirt/p/itm0d818d1c670ba', 'https://www.flipkart.com/surhi-men-checkered-casual-brown-shirt/p/itm7e53fca0684e9', 'https://www.flipkart.com/fubar-men-striped-casual-maroon-shirt/p/itmca214f298cb98', 'https://www.flipkart.com/fubar-men-striped-casual-maroon-shirt/p/itm2273aa6b645c3', 'https://www.flipkart.com/mr-kameej-men-printed-casual-multicolor-shirt/p/itma8bd53ef0834d', 'https://www.flipkart.com/surhi-men-checkered-casual-grey-shirt/p/itm10f1d1874697f', 'https://www.flipkart.com/x-men-men-solid-casual-pink-shirt/p/itma15346b02627d', 'https://www.flipkart.com/highlander-men-solid-casual-white-shirt/p/itmeh5hscgmqgdpf', 'https://www.flipkart.com/being-real-men-striped-casual-black-white-shirt/p/itm4de6899f77442', 'https://www.flipkart.com/solbiza-men-solid-casual-blue-shirt/p/itm8f1ea12540c15', 'https://www.flipkart.com/gespo-men-solid-casual-white-shirt/p/itmfa8buyfqkmxth', 'https://www.flipkart.com/fubar-men-solid-casual-maroon-shirt/p/itmfhy5qrqhjkvcn', 'https://www.flipkart.com/fubar-men-striped-casual-blue-shirt/p/itm75f9681f1852a', 'https://www.flipkart.com/surhi-men-checkered-casual-blue-shirt/p/itm17b35f4047684', 'https://www.flipkart.com/x-men-men-solid-casual-black-shirt/p/itmb3b03681257a7', 'https://www.flipkart.com/try-men-color-block-casual-maroon-blue-shirt/p/itmfabf250bd316c', 'https://www.flipkart.com/louis-philippe-men-checkered-casual-blue-shirt/p/itm191bf1765219f', 'https://www.flipkart.com/cobio-man-men-floral-print-casual-green-shirt/p/itm4ee7bc0b5dd7d', 'https://www.flipkart.com/try-men-color-block-casual-white-black-shirt/p/itm60628958d25f3', 'https://www.flipkart.com/peter-england-men-checkered-casual-blue-shirt/p/itm790c5ee760f1d', 'https://www.flipkart.com/indoprimo-men-solid-casual-grey-shirt/p/itm5c057ba2c3961', 'https://www.flipkart.com/fabtag-deeksha-men-solid-casual-black-shirt/p/itmf6eufqp4efsdy', 'https://www.flipkart.com/x-men-men-solid-casual-white-shirt/p/itm2aa9b41aaa5a7', 'https://www.flipkart.com/fubar-men-solid-casual-black-shirt/p/itmfghfafsw6am2x', 'https://www.flipkart.com/v2-retail-limited-men-printed-casual-black-shirt/p/itmab0bc830b1ed8', 'https://www.flipkart.com/x-men-men-solid-casual-pink-shirt/p/itm6283909b5e4ab', 'https://www.flipkart.com/highlander-men-checkered-casual-multicolor-shirt/p/itmfekrxtz7bkvpw']\n"
     ]
    }
   ],
   "source": [
    "# Example of horizontal display\n",
    "print(link_extractor(\"Shirts\"))"
   ]
  }
 ],
 "metadata": {
  "kernelspec": {
   "display_name": "Python 3",
   "language": "python",
   "name": "python3"
  },
  "language_info": {
   "codemirror_mode": {
    "name": "ipython",
    "version": 3
   },
   "file_extension": ".py",
   "mimetype": "text/x-python",
   "name": "python",
   "nbconvert_exporter": "python",
   "pygments_lexer": "ipython3",
   "version": "3.8.5"
  }
 },
 "nbformat": 4,
 "nbformat_minor": 5
}
