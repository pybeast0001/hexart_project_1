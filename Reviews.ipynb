{
 "cells": [
  {
   "cell_type": "code",
   "execution_count": 29,
   "metadata": {},
   "outputs": [],
   "source": [
    "import requests   \n",
    "from bs4 import BeautifulSoup as bs \n",
    "import re \n",
    "import nltk\n",
    "import matplotlib.pyplot as plt\n",
    "from wordcloud import WordCloud\n",
    "import os"
   ]
  },
  {
   "cell_type": "code",
   "execution_count": 31,
   "metadata": {},
   "outputs": [
    {
     "name": "stdout",
     "output_type": "stream",
     "text": [
      "100\n"
     ]
    }
   ],
   "source": [
    "#Scraping review using beautifulsoup\n",
    "reviews_list=[]\n",
    "for i in range(1,11):\n",
    "  m=[]  \n",
    "  url=\"https://www.flipkart.com/redmi-9i-nature-green-64-gb/product-reviews/itm2e2fcd7b3eb7b?pid=MOBFV8RYNA4FVEH7&lid=LSTMOBFV8RYNA4FVEH7NNKUZA&marketplace=FLIPKART&page=\"+str(i)\n",
    "  response = requests.get(url)\n",
    "  soup = bs(response.content,\"html.parser\")\n",
    "  reviews = soup.findAll(\"div\",attrs={\"class\",\"t-ZTKy\"})  \n",
    "  for i in range(len(reviews)):\n",
    "    m.append(reviews[i].text)  \n",
    "  reviews_list=reviews_list+m\n",
    "#here we saving the extracted data \n",
    "print(len(reviews_list))\n",
    "with open(\"reviews.txt\",\"w\",encoding='utf8') as output:\n",
    "    output.write(str(reviews_list))"
   ]
  },
  {
   "cell_type": "code",
   "execution_count": null,
   "metadata": {},
   "outputs": [],
   "source": []
  }
 ],
 "metadata": {
  "kernelspec": {
   "display_name": "Python 3",
   "language": "python",
   "name": "python3"
  },
  "language_info": {
   "codemirror_mode": {
    "name": "ipython",
    "version": 3
   },
   "file_extension": ".py",
   "mimetype": "text/x-python",
   "name": "python",
   "nbconvert_exporter": "python",
   "pygments_lexer": "ipython3",
   "version": "3.7.3"
  }
 },
 "nbformat": 4,
 "nbformat_minor": 2
}
