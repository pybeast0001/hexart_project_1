{
 "cells": [
  {
   "cell_type": "markdown",
   "id": "85f18a43",
   "metadata": {},
   "source": [
    "### Import all necessary libraries/modules"
   ]
  },
  {
   "cell_type": "code",
   "execution_count": 1,
   "id": "9db93134",
   "metadata": {},
   "outputs": [],
   "source": [
    "from selenium import webdriver\n",
    "import time"
   ]
  },
  {
   "cell_type": "markdown",
   "id": "95c7d534",
   "metadata": {},
   "source": [
    "### Load the driver"
   ]
  },
  {
   "cell_type": "code",
   "execution_count": 53,
   "id": "a0e576c4",
   "metadata": {},
   "outputs": [],
   "source": [
    "driver_path = '/home/pybeast/chromedriver'\n",
    "driver = webdriver.Chrome(executable_path=driver_path)"
   ]
  },
  {
   "cell_type": "markdown",
   "id": "e4c4fed7",
   "metadata": {},
   "source": [
    "### Function that returns reviews list of a procuct when given product's URL as parameter"
   ]
  },
  {
   "cell_type": "code",
   "execution_count": 57,
   "id": "3433a552",
   "metadata": {
    "scrolled": true
   },
   "outputs": [],
   "source": [
    "def reviews_info(product_url):\n",
    "    \n",
    "    # Navigating to product's page url\n",
    "    driver.get(product_url)\n",
    "    time.sleep(5)\n",
    "    \n",
    "    # limit variable specifies the maximum number of reviews we need to extract of that product\n",
    "    limit = 30\n",
    "    \n",
    "    # cnt variable keeps track of number of reviews that got appended to the reviews_list\n",
    "    cnt = 0\n",
    "    \n",
    "    # Currently reviews_list is empty\n",
    "    reviews_list = []\n",
    "    \n",
    "    # Trying to Navigating to page where all the reviews of the specified product can be found\n",
    "    try:\n",
    "        all_reviews_link = driver.find_element_by_xpath(\"//div[contains(@class, '_3UAT2v')]/parent::a\")\n",
    "        all_reviews_link.click()\n",
    "        time.sleep(5)\n",
    "    except:\n",
    "        # If all_reviews_link is not found, then may be there are only few reviews for that product or no reviews at all\n",
    "        reviews = driver.find_elements_by_class_name(\"t-ZTKy\")\n",
    "        for review in reviews:\n",
    "            reviews_list.append(review.text)\n",
    "        return reviews_list # No need of running below code in this case\n",
    "    \n",
    "    # Loop until limit is reached or next_button is not found\n",
    "    while True:\n",
    "        \n",
    "        # All reviews text is present inside a div whose parent element is another div and has class='t-ZTKy'\n",
    "        reviews = driver.find_elements_by_class_name(\"t-ZTKy\")\n",
    "        for review in reviews:\n",
    "            \n",
    "            # If the review is long, then there is 'READ MORE' link. Click that\n",
    "            try:\n",
    "                review.find_element_by_class_name(\"_1BWGvX\").click()\n",
    "            except:\n",
    "                pass\n",
    "            \n",
    "            reviews_list.append(review.text)\n",
    "            cnt += 1\n",
    "            \n",
    "            if cnt == limit:\n",
    "                return reviews_list\n",
    "            \n",
    "        # Check if there is next button present on the page. If yes, then click else return the available links list\n",
    "        try:\n",
    "            next_button = driver.find_element_by_xpath(\"//span[contains(text(), 'Next')]/parent::a[contains(@class, '_1LKTO3')]\")\n",
    "            next_button.click()\n",
    "            time.sleep(5)\n",
    "        except:\n",
    "            return reviews_list\n",
    "    return reviews_list"
   ]
  },
  {
   "cell_type": "code",
   "execution_count": 61,
   "id": "9b74af9a",
   "metadata": {
    "scrolled": false
   },
   "outputs": [
    {
     "name": "stdout",
     "output_type": "stream",
     "text": [
      "['Thankyou Redmi,\\n\\nFeeling Lucky to buy this product in First selling day itself. Delivered within two days....\\n\\n\\nProduct is awesome... Value for money...\\nCamera is giving Sufficient performance for 13mp...\\nBathery also Working amazing performance..\\n\\nNote-Redmi is not providing any transparent case, Screen guard ....', 'Good mobile ...I loved it and Thank you flipkart n delivery person mr Pardeep bhai ..he is always good behaviour person...❤️❤️', 'It is an good phone ever i see, but it have only one problem\\nFor safety the network will be slow,but ever it is good product and value for money and good for gaming and\\nCamera perfectly ok, hd display and 64gb rom', 'Nice very super product and nice performance\\nBattery backup nice', \"To be completely honest this is not the best phone out there because there's always a bigger fish but this is the most okay-ish phone in my opinion but i'll give it 5 stars anyway because it works great. It lacks front camera quality and fingerprint sensor but I don't take any pictures and I don't need perfect security anyway. All I need is good performance and it's working fine after a couple of months. Totally worth your money.👌👌👌\", 'Nice mobile, good battery backup, camera satisfactory, display is awesome, sound quality satisfactory, nice internet speed. Best mobile at this range. Highly recommended', \"I've bought this for my parents, overall phone is good. But Redmi has used one camera, atleast they should have used a decent one but no, the camera is below average. My 2 year old Redmi 6 has better camera then this otherwise performance is good. My recommendation is don't go for Realme Narzo 20a, cause the 32 gb fills up immediately and the realme ui is also not as polished as MIUI. You can choose between this and Poco C3.\", 'Very good product everything is fine camera is not good I think everything all good thank you for Flipkart thank you for delivery boy thanks for all library', 'Writing this review after 4 months of purchase - 4gb 128gb varient. :- A value for money product ,but performance wise is a little slow,because of helio G25 processor ,if it had snapdragon processor itt would work much efficiently..camera is below average ,battery backup is amazing.. So if you dont do much of work and if you want it for your parents then its good ,but if you are a student then you can try some other option ...', \"Mi 9i is good no loss it is very good mobile any one can take this it's very good I am happy thank you\", 'Very good mobile. I love thish phone. Really good cemara. Betary pick. Wite. . Totally best mobiles .', 'Nice product fits in your budget segment.\\n1) Battery back up is quite good\\n2) Nice camera\\n3) Not a gaming phone\\n4) Great for normal usage', \"Good phone. Budget friendly.\\nBest in this budget.\\n\\nDisplay brightness should be more\\nSound is low\\nPerformance is okay not for up to mark\\nCamera is fine even it's 5MP\\nGreen color is quite sharp. Many will dislike it.\\nNo Split screen, Floating window, one handed mode and special features.\\n\\nIf it's durable for 3 years it is a good product then.\", 'Based on the usage for about 3 weeks, I am writing this review.\\n\\n1. The display is quite large and the phone is little taller. Not very comfortable to hold and not possible to reach all the parts of the screen using single hand.\\n2. Display quality is OK OK\\n3. Battery backup is good.\\n4. Battery charging time is very slow. Takes around 2.5-3 hrs to charge completely. The charger heats a lot.\\n5. Not a decent camera\\n6. Performance is pretty bad even though it comes with 4GB of RAM. Galaxy M01 was way better than this in the performance.\\n7. A lot of bloatwares. In fact I uninstalled many system apps which were installed by default.', 'Perfect phone\\n1. Amezing camera\\n2. Good performance\\n3. Big display\\n4. Smooth working as a water\\nGood and perfect phone must buy\\nI recommend this phone', 'Good design. Not heavy. Good performance. Good camera quality. 10x zoom is wonderful', \"Hi guys I here give u a complete review of this mobile if u want this mobile for gaming use please don't go for this but If u want for normal use and casual gaming then this phone is a pure value for money product.\\nPerformance is good for daily use.\\nCamera quality is good for this price\\nHigh range games like pubg cod are not preferable but this phone can survive.with some framedrops\\nPhone is a value for money king for this price\\nFour star for this this phone quality and value for money and one star deduction due to its unflexiblity for gaming\", \"Really amazed with the performance of this phone.\\nValue for money, best Buy in this range .\\nIt's been two months have never seen phone lag.\\nI highly recommend this phone\", 'Good quality of screen. Camera is average. Battery is good and lasts for 2 days with average usage. Screen size is very good for watching movies, YouTube etc video stuff.', 'Super working, awesome camera clarity & battery is also good best mobile.', 'Simply awesome display and battery back up cost wise good camara ok super value for money', \"Camera- Average but works fine. Back camera is good for a 1/2-1 metres distance and same goes with front camera. After that it's kinda blurry. Not bad honestly, I don't like the protruded part though.\\nBattery- Works for 18 hours if phone is practically used the whole day which is great. No Fast charging.\\nStorage- Enormous space( and is obviously expandable)\\nRAM- The device does lags sometimes if 2-3 moderate games are working simultaneously. Not good for even moderate gaming a/c to me.\\nDisplay- Fairly stronger than what I had presumed (considering I have already dropped the phone without any cover for atleast 3 times). Screen length and ratio is cool. Brightness is good.\\nDisplay is almost same as all Redmi phones have.\\nDark Mode & Reading Mode are there too.\\nThe phone does not get heated but the charger does (too much tbh). Voice quality in recording and speakers is nice. The volume of speakers is good too. Camera is not for great photography but works fine for normal days use.\\nNo Back cover or Screen Guard provided. No Fingerprint or Water notch. Charger is provided though.\\nKeeping in mind the price, it's a fairly nice catch. I loved this phone in this range.\\nDelievry was at exact time (within 2 days) with no problem whatsoever.\\n~1 month experience\", \"Best mobile in this price range. Camera would be better. Display is good. Battery performance is best it can easily work for one day. Redmi must provide case. Overall it's the perfect phone in this price range.\", 'Using since 5 Months. Good experience so far. No lagging, no overheating while charging, good battery backup (though it takes a long time for charging too, but the time worth it), camera is ok (my preference was not the camera, so I was ok with this one), can multitask with ease. Overall a nice one in this budget.', 'Outstanding display, sound quality is good, outstanding battery backup, good look and good configuration...if earbuds and mobile cover will along with mobile phone box will be more better...', 'Super Very nice Good', 'Good', 'Good product', 'Great product at this price. 😍', 'Handset,mast &camera better']\n"
     ]
    }
   ],
   "source": [
    "print(reviews_info('https://www.flipkart.com/redmi-9i-nature-green-64-gb/p/itm2e2fcd7b3eb7b'))"
   ]
  }
 ],
 "metadata": {
  "kernelspec": {
   "display_name": "Python 3",
   "language": "python",
   "name": "python3"
  },
  "language_info": {
   "codemirror_mode": {
    "name": "ipython",
    "version": 3
   },
   "file_extension": ".py",
   "mimetype": "text/x-python",
   "name": "python",
   "nbconvert_exporter": "python",
   "pygments_lexer": "ipython3",
   "version": "3.8.5"
  }
 },
 "nbformat": 4,
 "nbformat_minor": 5
}
